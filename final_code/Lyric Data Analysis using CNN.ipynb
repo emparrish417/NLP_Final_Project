{
  "nbformat": 4,
  "nbformat_minor": 0,
  "metadata": {
    "kernelspec": {
      "display_name": "Python 3",
      "language": "python",
      "name": "python3"
    },
    "language_info": {
      "codemirror_mode": {
        "name": "ipython",
        "version": 3
      },
      "file_extension": ".py",
      "mimetype": "text/x-python",
      "name": "python",
      "nbconvert_exporter": "python",
      "pygments_lexer": "ipython3",
      "version": "3.8.3"
    },
    "colab": {
      "name": "Final Project Song Sentiment CNN.ipynb",
      "provenance": [],
      "collapsed_sections": []
    },
    "accelerator": "GPU"
  },
  "cells": [
    {
      "cell_type": "code",
      "metadata": {
        "colab": {
          "base_uri": "https://localhost:8080/"
        },
        "id": "2Y_g4ECWY8JF",
        "outputId": "d15593eb-960d-471d-94fa-53f03de7e49b"
      },
      "source": [
        "import pandas as pd\n",
        "import numpy as np\n",
        "import matplotlib.pyplot as plt\n",
        "import seaborn as sns\n",
        "sns.set()\n",
        "import re\n",
        "import spacy\n",
        "%tensorflow_version 2.x\n",
        "import tensorflow as tf\n",
        "device_name = tf.test.gpu_device_name()\n",
        "if device_name != '/device:GPU:0':\n",
        "  raise SystemError('GPU device not found')\n",
        "print('Found GPU at: {}'.format(device_name))\n",
        "from collections import Counter\n",
        "import string\n",
        "from sklearn.metrics import accuracy_score, confusion_matrix, plot_confusion_matrix\n",
        "import sys\n",
        "import csv\n",
        "maxInt = sys.maxsize\n",
        "\n",
        "while True:\n",
        "    # decrease the maxInt value by factor 10 \n",
        "    # as long as the OverflowError occurs.\n",
        "\n",
        "    try:\n",
        "        csv.field_size_limit(maxInt)\n",
        "        break\n",
        "    except OverflowError:\n",
        "        maxInt = int(maxInt/10)"
      ],
      "execution_count": 3,
      "outputs": [
        {
          "output_type": "stream",
          "text": [
            "Found GPU at: /device:GPU:0\n"
          ],
          "name": "stdout"
        }
      ]
    },
    {
      "cell_type": "code",
      "metadata": {
        "colab": {
          "base_uri": "https://localhost:8080/",
          "height": 1000
        },
        "id": "kGumG_7JY8JS",
        "outputId": "514176eb-4ddb-4681-d1e0-b7e1ac6e292d"
      },
      "source": [
        "# load data\n",
        "data = pd.read_csv('/content/lyric-full_df.csv', engine='python', error_bad_lines=False).sample(frac=.8, replace=True, random_state=0)\n",
        "\n",
        "data"
      ],
      "execution_count": 4,
      "outputs": [
        {
          "output_type": "execute_result",
          "data": {
            "text/html": [
              "<div>\n",
              "<style scoped>\n",
              "    .dataframe tbody tr th:only-of-type {\n",
              "        vertical-align: middle;\n",
              "    }\n",
              "\n",
              "    .dataframe tbody tr th {\n",
              "        vertical-align: top;\n",
              "    }\n",
              "\n",
              "    .dataframe thead th {\n",
              "        text-align: right;\n",
              "    }\n",
              "</style>\n",
              "<table border=\"1\" class=\"dataframe\">\n",
              "  <thead>\n",
              "    <tr style=\"text-align: right;\">\n",
              "      <th></th>\n",
              "      <th>WeekID</th>\n",
              "      <th>Unnamed: 0</th>\n",
              "      <th>url</th>\n",
              "      <th>Week Position</th>\n",
              "      <th>Song</th>\n",
              "      <th>Performer</th>\n",
              "      <th>SongID</th>\n",
              "      <th>Instance</th>\n",
              "      <th>Previous Week Position</th>\n",
              "      <th>Peak Position</th>\n",
              "      <th>Weeks on Chart</th>\n",
              "      <th>Lyrics</th>\n",
              "      <th>Sentiment</th>\n",
              "    </tr>\n",
              "  </thead>\n",
              "  <tbody>\n",
              "    <tr>\n",
              "      <th>9634</th>\n",
              "      <td>1975-07-26</td>\n",
              "      <td>24626</td>\n",
              "      <td>http://www.billboard.com/charts/hot-100/1975-0...</td>\n",
              "      <td>75</td>\n",
              "      <td>The Proud One</td>\n",
              "      <td>The Osmonds</td>\n",
              "      <td>The Proud OneThe Osmonds</td>\n",
              "      <td>1</td>\n",
              "      <td>NaN</td>\n",
              "      <td>75</td>\n",
              "      <td>1</td>\n",
              "      <td>Livin is dyin\\nCause love youve left me cryin\\...</td>\n",
              "      <td>0.160684</td>\n",
              "    </tr>\n",
              "    <tr>\n",
              "      <th>12850</th>\n",
              "      <td>1982-11-27</td>\n",
              "      <td>18692</td>\n",
              "      <td>http://www.billboard.com/charts/hot-100/1982-1...</td>\n",
              "      <td>84</td>\n",
              "      <td>The Elvis Medley</td>\n",
              "      <td>Elvis Presley</td>\n",
              "      <td>The Elvis MedleyElvis Presley</td>\n",
              "      <td>1</td>\n",
              "      <td>NaN</td>\n",
              "      <td>84</td>\n",
              "      <td>1</td>\n",
              "      <td>825 ALL NIGHT â PAROV STELAR\\n824 BIG JET PL...</td>\n",
              "      <td>0.141266</td>\n",
              "    </tr>\n",
              "    <tr>\n",
              "      <th>23257</th>\n",
              "      <td>2012-09-29</td>\n",
              "      <td>17396</td>\n",
              "      <td>http://www.billboard.com/charts/hot-100/2012-0...</td>\n",
              "      <td>95</td>\n",
              "      <td>It's Time</td>\n",
              "      <td>Glee Cast</td>\n",
              "      <td>It's TimeGlee Cast</td>\n",
              "      <td>1</td>\n",
              "      <td>NaN</td>\n",
              "      <td>95</td>\n",
              "      <td>1</td>\n",
              "      <td>[BLAINE]\\nSo this is what you meant\\nWhen you ...</td>\n",
              "      <td>-0.014922</td>\n",
              "    </tr>\n",
              "    <tr>\n",
              "      <th>23126</th>\n",
              "      <td>2012-05-05</td>\n",
              "      <td>27419</td>\n",
              "      <td>http://www.billboard.com/charts/hot-100/2012-0...</td>\n",
              "      <td>97</td>\n",
              "      <td>Tonight (Best You Ever Had)</td>\n",
              "      <td>John Legend Featuring Ludacris</td>\n",
              "      <td>Tonight (Best You Ever Had)John Legend Featuri...</td>\n",
              "      <td>1</td>\n",
              "      <td>NaN</td>\n",
              "      <td>97</td>\n",
              "      <td>1</td>\n",
              "      <td>[Verse 1: John Legend]\\nAlright\\nAin't this wh...</td>\n",
              "      <td>0.483707</td>\n",
              "    </tr>\n",
              "    <tr>\n",
              "      <th>14267</th>\n",
              "      <td>1986-05-31</td>\n",
              "      <td>9901</td>\n",
              "      <td>http://www.billboard.com/charts/hot-100/1986-0...</td>\n",
              "      <td>73</td>\n",
              "      <td>Stick Around</td>\n",
              "      <td>Julian Lennon</td>\n",
              "      <td>Stick AroundJulian Lennon</td>\n",
              "      <td>1</td>\n",
              "      <td>44.0</td>\n",
              "      <td>32</td>\n",
              "      <td>11</td>\n",
              "      <td>If you want to tell me something new\\nI might ...</td>\n",
              "      <td>0.197868</td>\n",
              "    </tr>\n",
              "    <tr>\n",
              "      <th>...</th>\n",
              "      <td>...</td>\n",
              "      <td>...</td>\n",
              "      <td>...</td>\n",
              "      <td>...</td>\n",
              "      <td>...</td>\n",
              "      <td>...</td>\n",
              "      <td>...</td>\n",
              "      <td>...</td>\n",
              "      <td>...</td>\n",
              "      <td>...</td>\n",
              "      <td>...</td>\n",
              "      <td>...</td>\n",
              "      <td>...</td>\n",
              "    </tr>\n",
              "    <tr>\n",
              "      <th>16028</th>\n",
              "      <td>1991-03-23</td>\n",
              "      <td>25522</td>\n",
              "      <td>http://www.billboard.com/charts/hot-100/1991-0...</td>\n",
              "      <td>88</td>\n",
              "      <td>Wrap My Body Tight</td>\n",
              "      <td>Johnny Gill</td>\n",
              "      <td>Wrap My Body TightJohnny Gill</td>\n",
              "      <td>1</td>\n",
              "      <td>NaN</td>\n",
              "      <td>88</td>\n",
              "      <td>1</td>\n",
              "      <td>[Verse 1:]\\nI fell out of bed\\nThis morning\\nO...</td>\n",
              "      <td>0.290747</td>\n",
              "    </tr>\n",
              "    <tr>\n",
              "      <th>22339</th>\n",
              "      <td>2010-08-21</td>\n",
              "      <td>24450</td>\n",
              "      <td>http://www.billboard.com/charts/hot-100/2010-0...</td>\n",
              "      <td>96</td>\n",
              "      <td>The Man Who Can't Be Moved</td>\n",
              "      <td>The Script</td>\n",
              "      <td>The Man Who Can't Be MovedThe Script</td>\n",
              "      <td>1</td>\n",
              "      <td>NaN</td>\n",
              "      <td>96</td>\n",
              "      <td>1</td>\n",
              "      <td>[Verse 1]\\nGoing back to the corner where I fi...</td>\n",
              "      <td>0.024306</td>\n",
              "    </tr>\n",
              "    <tr>\n",
              "      <th>18663</th>\n",
              "      <td>1999-07-24</td>\n",
              "      <td>12510</td>\n",
              "      <td>http://www.billboard.com/charts/hot-100/1999-0...</td>\n",
              "      <td>29</td>\n",
              "      <td>Amazed</td>\n",
              "      <td>Lonestar</td>\n",
              "      <td>AmazedLonestar</td>\n",
              "      <td>1</td>\n",
              "      <td>29.0</td>\n",
              "      <td>29</td>\n",
              "      <td>8</td>\n",
              "      <td>[Verse 1]\\nEvery time our eyes meet\\nThis feel...</td>\n",
              "      <td>0.187500</td>\n",
              "    </tr>\n",
              "    <tr>\n",
              "      <th>18851</th>\n",
              "      <td>2000-03-11</td>\n",
              "      <td>26687</td>\n",
              "      <td>http://www.billboard.com/charts/hot-100/2000-0...</td>\n",
              "      <td>80</td>\n",
              "      <td>The Way You Love Me</td>\n",
              "      <td>Faith Hill</td>\n",
              "      <td>The Way You Love MeFaith Hill</td>\n",
              "      <td>1</td>\n",
              "      <td>NaN</td>\n",
              "      <td>80</td>\n",
              "      <td>1</td>\n",
              "      <td>[Verse 1]\\nIf I could grant\\nYou one wish\\nI'd...</td>\n",
              "      <td>0.349806</td>\n",
              "    </tr>\n",
              "    <tr>\n",
              "      <th>22833</th>\n",
              "      <td>2011-08-27</td>\n",
              "      <td>25930</td>\n",
              "      <td>http://www.billboard.com/charts/hot-100/2011-0...</td>\n",
              "      <td>78</td>\n",
              "      <td>We Don't Get Down Like Y'all</td>\n",
              "      <td>T.I. Featuring B.o.B.</td>\n",
              "      <td>We Don't Get Down Like Y'allT.I. Featuring B.o.B.</td>\n",
              "      <td>1</td>\n",
              "      <td>NaN</td>\n",
              "      <td>78</td>\n",
              "      <td>1</td>\n",
              "      <td>We donât get down like y'all\\nWe donât get...</td>\n",
              "      <td>0.063779</td>\n",
              "    </tr>\n",
              "  </tbody>\n",
              "</table>\n",
              "<p>20910 rows × 13 columns</p>\n",
              "</div>"
            ],
            "text/plain": [
              "           WeekID  ...  Sentiment\n",
              "9634   1975-07-26  ...   0.160684\n",
              "12850  1982-11-27  ...   0.141266\n",
              "23257  2012-09-29  ...  -0.014922\n",
              "23126  2012-05-05  ...   0.483707\n",
              "14267  1986-05-31  ...   0.197868\n",
              "...           ...  ...        ...\n",
              "16028  1991-03-23  ...   0.290747\n",
              "22339  2010-08-21  ...   0.024306\n",
              "18663  1999-07-24  ...   0.187500\n",
              "18851  2000-03-11  ...   0.349806\n",
              "22833  2011-08-27  ...   0.063779\n",
              "\n",
              "[20910 rows x 13 columns]"
            ]
          },
          "metadata": {
            "tags": []
          },
          "execution_count": 4
        }
      ]
    },
    {
      "cell_type": "code",
      "metadata": {
        "id": "b0zX2OHMY8JV"
      },
      "source": [
        "# lyrics\n",
        "#data['Lyrics'][20]"
      ],
      "execution_count": 5,
      "outputs": []
    },
    {
      "cell_type": "code",
      "metadata": {
        "colab": {
          "base_uri": "https://localhost:8080/"
        },
        "id": "vx3iTWEEY8JX",
        "outputId": "dd8a61f0-8fdb-4da2-9604-2d5d05339acd"
      },
      "source": [
        "data.shape"
      ],
      "execution_count": 6,
      "outputs": [
        {
          "output_type": "execute_result",
          "data": {
            "text/plain": [
              "(20910, 13)"
            ]
          },
          "metadata": {
            "tags": []
          },
          "execution_count": 6
        }
      ]
    },
    {
      "cell_type": "code",
      "metadata": {
        "colab": {
          "base_uri": "https://localhost:8080/"
        },
        "id": "5jsuwy5iY8JY",
        "outputId": "03da30c5-6c5c-4283-a016-5492fec204df"
      },
      "source": [
        "data.info()"
      ],
      "execution_count": 7,
      "outputs": [
        {
          "output_type": "stream",
          "text": [
            "<class 'pandas.core.frame.DataFrame'>\n",
            "Int64Index: 20910 entries, 9634 to 22833\n",
            "Data columns (total 13 columns):\n",
            " #   Column                  Non-Null Count  Dtype  \n",
            "---  ------                  --------------  -----  \n",
            " 0   WeekID                  20910 non-null  object \n",
            " 1   Unnamed: 0              20910 non-null  int64  \n",
            " 2   url                     20910 non-null  object \n",
            " 3   Week Position           20910 non-null  int64  \n",
            " 4   Song                    20910 non-null  object \n",
            " 5   Performer               20910 non-null  object \n",
            " 6   SongID                  20910 non-null  object \n",
            " 7   Instance                20910 non-null  int64  \n",
            " 8   Previous Week Position  9019 non-null   float64\n",
            " 9   Peak Position           20910 non-null  int64  \n",
            " 10  Weeks on Chart          20910 non-null  int64  \n",
            " 11  Lyrics                  20910 non-null  object \n",
            " 12  Sentiment               20910 non-null  float64\n",
            "dtypes: float64(2), int64(5), object(6)\n",
            "memory usage: 2.2+ MB\n"
          ],
          "name": "stdout"
        }
      ]
    },
    {
      "cell_type": "code",
      "metadata": {
        "colab": {
          "base_uri": "https://localhost:8080/"
        },
        "id": "hIP3jy1LY8JZ",
        "outputId": "963b28af-3c1e-4fab-a000-0ac0bbdf7bae"
      },
      "source": [
        "data.isnull().sum()"
      ],
      "execution_count": 8,
      "outputs": [
        {
          "output_type": "execute_result",
          "data": {
            "text/plain": [
              "WeekID                        0\n",
              "Unnamed: 0                    0\n",
              "url                           0\n",
              "Week Position                 0\n",
              "Song                          0\n",
              "Performer                     0\n",
              "SongID                        0\n",
              "Instance                      0\n",
              "Previous Week Position    11891\n",
              "Peak Position                 0\n",
              "Weeks on Chart                0\n",
              "Lyrics                        0\n",
              "Sentiment                     0\n",
              "dtype: int64"
            ]
          },
          "metadata": {
            "tags": []
          },
          "execution_count": 8
        }
      ]
    },
    {
      "cell_type": "code",
      "metadata": {
        "id": "XJk2tt4hY8Ja"
      },
      "source": [
        "data['lyric_length'] = data['Lyrics'].apply(lambda x: len(x.split()))"
      ],
      "execution_count": 9,
      "outputs": []
    },
    {
      "cell_type": "code",
      "metadata": {
        "colab": {
          "base_uri": "https://localhost:8080/",
          "height": 408
        },
        "id": "WjejDuOrY8Ja",
        "outputId": "287b11e0-fef8-4119-e7ea-b7ee0fe2dc68"
      },
      "source": [
        "songs = data.copy()[['WeekID', 'Song', 'Performer', 'Lyrics', 'Sentiment', 'lyric_length']]\n",
        "\n",
        "songs.head()"
      ],
      "execution_count": 10,
      "outputs": [
        {
          "output_type": "execute_result",
          "data": {
            "text/html": [
              "<div>\n",
              "<style scoped>\n",
              "    .dataframe tbody tr th:only-of-type {\n",
              "        vertical-align: middle;\n",
              "    }\n",
              "\n",
              "    .dataframe tbody tr th {\n",
              "        vertical-align: top;\n",
              "    }\n",
              "\n",
              "    .dataframe thead th {\n",
              "        text-align: right;\n",
              "    }\n",
              "</style>\n",
              "<table border=\"1\" class=\"dataframe\">\n",
              "  <thead>\n",
              "    <tr style=\"text-align: right;\">\n",
              "      <th></th>\n",
              "      <th>WeekID</th>\n",
              "      <th>Song</th>\n",
              "      <th>Performer</th>\n",
              "      <th>Lyrics</th>\n",
              "      <th>Sentiment</th>\n",
              "      <th>lyric_length</th>\n",
              "    </tr>\n",
              "  </thead>\n",
              "  <tbody>\n",
              "    <tr>\n",
              "      <th>9634</th>\n",
              "      <td>1975-07-26</td>\n",
              "      <td>The Proud One</td>\n",
              "      <td>The Osmonds</td>\n",
              "      <td>Livin is dyin\\nCause love youve left me cryin\\...</td>\n",
              "      <td>0.160684</td>\n",
              "      <td>112</td>\n",
              "    </tr>\n",
              "    <tr>\n",
              "      <th>12850</th>\n",
              "      <td>1982-11-27</td>\n",
              "      <td>The Elvis Medley</td>\n",
              "      <td>Elvis Presley</td>\n",
              "      <td>825 ALL NIGHT â PAROV STELAR\\n824 BIG JET PL...</td>\n",
              "      <td>0.141266</td>\n",
              "      <td>5781</td>\n",
              "    </tr>\n",
              "    <tr>\n",
              "      <th>23257</th>\n",
              "      <td>2012-09-29</td>\n",
              "      <td>It's Time</td>\n",
              "      <td>Glee Cast</td>\n",
              "      <td>[BLAINE]\\nSo this is what you meant\\nWhen you ...</td>\n",
              "      <td>-0.014922</td>\n",
              "      <td>318</td>\n",
              "    </tr>\n",
              "    <tr>\n",
              "      <th>23126</th>\n",
              "      <td>2012-05-05</td>\n",
              "      <td>Tonight (Best You Ever Had)</td>\n",
              "      <td>John Legend Featuring Ludacris</td>\n",
              "      <td>[Verse 1: John Legend]\\nAlright\\nAin't this wh...</td>\n",
              "      <td>0.483707</td>\n",
              "      <td>404</td>\n",
              "    </tr>\n",
              "    <tr>\n",
              "      <th>14267</th>\n",
              "      <td>1986-05-31</td>\n",
              "      <td>Stick Around</td>\n",
              "      <td>Julian Lennon</td>\n",
              "      <td>If you want to tell me something new\\nI might ...</td>\n",
              "      <td>0.197868</td>\n",
              "      <td>150</td>\n",
              "    </tr>\n",
              "  </tbody>\n",
              "</table>\n",
              "</div>"
            ],
            "text/plain": [
              "           WeekID                         Song  ... Sentiment lyric_length\n",
              "9634   1975-07-26                The Proud One  ...  0.160684          112\n",
              "12850  1982-11-27             The Elvis Medley  ...  0.141266         5781\n",
              "23257  2012-09-29                    It's Time  ... -0.014922          318\n",
              "23126  2012-05-05  Tonight (Best You Ever Had)  ...  0.483707          404\n",
              "14267  1986-05-31                 Stick Around  ...  0.197868          150\n",
              "\n",
              "[5 rows x 6 columns]"
            ]
          },
          "metadata": {
            "tags": []
          },
          "execution_count": 10
        }
      ]
    },
    {
      "cell_type": "code",
      "metadata": {
        "colab": {
          "base_uri": "https://localhost:8080/",
          "height": 111
        },
        "id": "eSZtG-V9Y8Jb",
        "outputId": "a311ecb3-51b5-440e-b936-7afd5065fa52"
      },
      "source": [
        "songs.corr()"
      ],
      "execution_count": 11,
      "outputs": [
        {
          "output_type": "execute_result",
          "data": {
            "text/html": [
              "<div>\n",
              "<style scoped>\n",
              "    .dataframe tbody tr th:only-of-type {\n",
              "        vertical-align: middle;\n",
              "    }\n",
              "\n",
              "    .dataframe tbody tr th {\n",
              "        vertical-align: top;\n",
              "    }\n",
              "\n",
              "    .dataframe thead th {\n",
              "        text-align: right;\n",
              "    }\n",
              "</style>\n",
              "<table border=\"1\" class=\"dataframe\">\n",
              "  <thead>\n",
              "    <tr style=\"text-align: right;\">\n",
              "      <th></th>\n",
              "      <th>Sentiment</th>\n",
              "      <th>lyric_length</th>\n",
              "    </tr>\n",
              "  </thead>\n",
              "  <tbody>\n",
              "    <tr>\n",
              "      <th>Sentiment</th>\n",
              "      <td>1.000000</td>\n",
              "      <td>-0.056401</td>\n",
              "    </tr>\n",
              "    <tr>\n",
              "      <th>lyric_length</th>\n",
              "      <td>-0.056401</td>\n",
              "      <td>1.000000</td>\n",
              "    </tr>\n",
              "  </tbody>\n",
              "</table>\n",
              "</div>"
            ],
            "text/plain": [
              "              Sentiment  lyric_length\n",
              "Sentiment      1.000000     -0.056401\n",
              "lyric_length  -0.056401      1.000000"
            ]
          },
          "metadata": {
            "tags": []
          },
          "execution_count": 11
        }
      ]
    },
    {
      "cell_type": "code",
      "metadata": {
        "colab": {
          "base_uri": "https://localhost:8080/",
          "height": 297
        },
        "id": "6eOXWVLTY8Jc",
        "outputId": "f263599f-a9ed-4f3c-c968-74240d27dfd7"
      },
      "source": [
        "songs[['Sentiment', 'lyric_length']].describe()"
      ],
      "execution_count": 12,
      "outputs": [
        {
          "output_type": "execute_result",
          "data": {
            "text/html": [
              "<div>\n",
              "<style scoped>\n",
              "    .dataframe tbody tr th:only-of-type {\n",
              "        vertical-align: middle;\n",
              "    }\n",
              "\n",
              "    .dataframe tbody tr th {\n",
              "        vertical-align: top;\n",
              "    }\n",
              "\n",
              "    .dataframe thead th {\n",
              "        text-align: right;\n",
              "    }\n",
              "</style>\n",
              "<table border=\"1\" class=\"dataframe\">\n",
              "  <thead>\n",
              "    <tr style=\"text-align: right;\">\n",
              "      <th></th>\n",
              "      <th>Sentiment</th>\n",
              "      <th>lyric_length</th>\n",
              "    </tr>\n",
              "  </thead>\n",
              "  <tbody>\n",
              "    <tr>\n",
              "      <th>count</th>\n",
              "      <td>20910.000000</td>\n",
              "      <td>20910.000000</td>\n",
              "    </tr>\n",
              "    <tr>\n",
              "      <th>mean</th>\n",
              "      <td>0.127870</td>\n",
              "      <td>2275.112099</td>\n",
              "    </tr>\n",
              "    <tr>\n",
              "      <th>std</th>\n",
              "      <td>0.170610</td>\n",
              "      <td>11318.851848</td>\n",
              "    </tr>\n",
              "    <tr>\n",
              "      <th>min</th>\n",
              "      <td>-0.937500</td>\n",
              "      <td>1.000000</td>\n",
              "    </tr>\n",
              "    <tr>\n",
              "      <th>25%</th>\n",
              "      <td>0.020692</td>\n",
              "      <td>200.000000</td>\n",
              "    </tr>\n",
              "    <tr>\n",
              "      <th>50%</th>\n",
              "      <td>0.113605</td>\n",
              "      <td>287.000000</td>\n",
              "    </tr>\n",
              "    <tr>\n",
              "      <th>75%</th>\n",
              "      <td>0.236962</td>\n",
              "      <td>480.000000</td>\n",
              "    </tr>\n",
              "    <tr>\n",
              "      <th>max</th>\n",
              "      <td>1.000000</td>\n",
              "      <td>152084.000000</td>\n",
              "    </tr>\n",
              "  </tbody>\n",
              "</table>\n",
              "</div>"
            ],
            "text/plain": [
              "          Sentiment   lyric_length\n",
              "count  20910.000000   20910.000000\n",
              "mean       0.127870    2275.112099\n",
              "std        0.170610   11318.851848\n",
              "min       -0.937500       1.000000\n",
              "25%        0.020692     200.000000\n",
              "50%        0.113605     287.000000\n",
              "75%        0.236962     480.000000\n",
              "max        1.000000  152084.000000"
            ]
          },
          "metadata": {
            "tags": []
          },
          "execution_count": 12
        }
      ]
    },
    {
      "cell_type": "code",
      "metadata": {
        "colab": {
          "base_uri": "https://localhost:8080/"
        },
        "id": "cLxiKPIrLjw_",
        "outputId": "a48f533a-9187-46f5-b0f5-06d92c437f07"
      },
      "source": [
        "songs['WeekID'].unique()"
      ],
      "execution_count": 13,
      "outputs": [
        {
          "output_type": "execute_result",
          "data": {
            "text/plain": [
              "array(['1975-07-26', '1982-11-27', '2012-09-29', ..., '1993-12-18',\n",
              "       '2013-04-20', '2013-03-23'], dtype=object)"
            ]
          },
          "metadata": {
            "tags": []
          },
          "execution_count": 13
        }
      ]
    },
    {
      "cell_type": "code",
      "metadata": {
        "colab": {
          "base_uri": "https://localhost:8080/",
          "height": 1000
        },
        "id": "mP8h2HmQ6JZC",
        "outputId": "3f9f5f73-4bf4-477c-89ba-51e38c73f86f"
      },
      "source": [
        "from helpers_ori import lyrics_to_words, clean_lyrics\r\n",
        "import nltk\r\n",
        "\r\n",
        "nltk.download('popular')\r\n",
        "# function from helpers\r\n",
        "def unique(list1): \r\n",
        "     # intilize a null list \r\n",
        "    unique_list = [] \r\n",
        "      \r\n",
        "    # traverse for all elements \r\n",
        "    for x in list1: \r\n",
        "        # check if exists in unique_list or not \r\n",
        "        if x not in unique_list: \r\n",
        "            unique_list.append(x) \r\n",
        "    \r\n",
        "    return unique_list\r\n",
        "\r\n",
        "clean_lyrics(songs, 'Lyrics')\r\n",
        "\r\n",
        "# List used to store the words\r\n",
        "\r\n",
        "lyrica = []\r\n",
        "\r\n",
        "# Iterate each lyric and split unique words appending the result into the words list\r\n",
        "\r\n",
        "songs = songs.reset_index(drop=True)\r\n",
        "for lyric in songs['Lyrics'].tolist():\r\n",
        "    lyrica.append(unique(lyrics_to_words(lyric).split()))\r\n",
        "\r\n",
        "# Create the new column with the information of words lists \r\n",
        "\r\n",
        "new_songs = songs\r\n",
        "new_songs['words'] = lyrica\r\n",
        "\r\n",
        "new_songs.head()"
      ],
      "execution_count": 14,
      "outputs": [
        {
          "output_type": "stream",
          "text": [
            "[nltk_data] Downloading collection 'popular'\n",
            "[nltk_data]    | \n",
            "[nltk_data]    | Downloading package cmudict to /root/nltk_data...\n",
            "[nltk_data]    |   Package cmudict is already up-to-date!\n",
            "[nltk_data]    | Downloading package gazetteers to /root/nltk_data...\n",
            "[nltk_data]    |   Package gazetteers is already up-to-date!\n",
            "[nltk_data]    | Downloading package genesis to /root/nltk_data...\n",
            "[nltk_data]    |   Package genesis is already up-to-date!\n",
            "[nltk_data]    | Downloading package gutenberg to /root/nltk_data...\n",
            "[nltk_data]    |   Package gutenberg is already up-to-date!\n",
            "[nltk_data]    | Downloading package inaugural to /root/nltk_data...\n",
            "[nltk_data]    |   Package inaugural is already up-to-date!\n",
            "[nltk_data]    | Downloading package movie_reviews to\n",
            "[nltk_data]    |     /root/nltk_data...\n",
            "[nltk_data]    |   Package movie_reviews is already up-to-date!\n",
            "[nltk_data]    | Downloading package names to /root/nltk_data...\n",
            "[nltk_data]    |   Package names is already up-to-date!\n",
            "[nltk_data]    | Downloading package shakespeare to /root/nltk_data...\n",
            "[nltk_data]    |   Package shakespeare is already up-to-date!\n",
            "[nltk_data]    | Downloading package stopwords to /root/nltk_data...\n",
            "[nltk_data]    |   Package stopwords is already up-to-date!\n",
            "[nltk_data]    | Downloading package treebank to /root/nltk_data...\n",
            "[nltk_data]    |   Package treebank is already up-to-date!\n",
            "[nltk_data]    | Downloading package twitter_samples to\n",
            "[nltk_data]    |     /root/nltk_data...\n",
            "[nltk_data]    |   Package twitter_samples is already up-to-date!\n",
            "[nltk_data]    | Downloading package omw to /root/nltk_data...\n",
            "[nltk_data]    |   Package omw is already up-to-date!\n",
            "[nltk_data]    | Downloading package wordnet to /root/nltk_data...\n",
            "[nltk_data]    |   Package wordnet is already up-to-date!\n",
            "[nltk_data]    | Downloading package wordnet_ic to /root/nltk_data...\n",
            "[nltk_data]    |   Package wordnet_ic is already up-to-date!\n",
            "[nltk_data]    | Downloading package words to /root/nltk_data...\n",
            "[nltk_data]    |   Package words is already up-to-date!\n",
            "[nltk_data]    | Downloading package maxent_ne_chunker to\n",
            "[nltk_data]    |     /root/nltk_data...\n",
            "[nltk_data]    |   Package maxent_ne_chunker is already up-to-date!\n",
            "[nltk_data]    | Downloading package punkt to /root/nltk_data...\n",
            "[nltk_data]    |   Package punkt is already up-to-date!\n",
            "[nltk_data]    | Downloading package snowball_data to\n",
            "[nltk_data]    |     /root/nltk_data...\n",
            "[nltk_data]    |   Package snowball_data is already up-to-date!\n",
            "[nltk_data]    | Downloading package averaged_perceptron_tagger to\n",
            "[nltk_data]    |     /root/nltk_data...\n",
            "[nltk_data]    |   Package averaged_perceptron_tagger is already up-\n",
            "[nltk_data]    |       to-date!\n",
            "[nltk_data]    | \n",
            "[nltk_data]  Done downloading collection popular\n"
          ],
          "name": "stdout"
        },
        {
          "output_type": "execute_result",
          "data": {
            "text/html": [
              "<div>\n",
              "<style scoped>\n",
              "    .dataframe tbody tr th:only-of-type {\n",
              "        vertical-align: middle;\n",
              "    }\n",
              "\n",
              "    .dataframe tbody tr th {\n",
              "        vertical-align: top;\n",
              "    }\n",
              "\n",
              "    .dataframe thead th {\n",
              "        text-align: right;\n",
              "    }\n",
              "</style>\n",
              "<table border=\"1\" class=\"dataframe\">\n",
              "  <thead>\n",
              "    <tr style=\"text-align: right;\">\n",
              "      <th></th>\n",
              "      <th>WeekID</th>\n",
              "      <th>Song</th>\n",
              "      <th>Performer</th>\n",
              "      <th>Lyrics</th>\n",
              "      <th>Sentiment</th>\n",
              "      <th>lyric_length</th>\n",
              "      <th>words</th>\n",
              "    </tr>\n",
              "  </thead>\n",
              "  <tbody>\n",
              "    <tr>\n",
              "      <th>0</th>\n",
              "      <td>1975-07-26</td>\n",
              "      <td>The Proud One</td>\n",
              "      <td>The Osmonds</td>\n",
              "      <td>livin is dyin cause love youve left me cryin n...</td>\n",
              "      <td>0.160684</td>\n",
              "      <td>112</td>\n",
              "      <td>[livin, dyin, cause, love, youve, left, cryin,...</td>\n",
              "    </tr>\n",
              "    <tr>\n",
              "      <th>1</th>\n",
              "      <td>1982-11-27</td>\n",
              "      <td>The Elvis Medley</td>\n",
              "      <td>Elvis Presley</td>\n",
              "      <td>85 all night â parov stelar 84 big jet plane â...</td>\n",
              "      <td>0.141266</td>\n",
              "      <td>5781</td>\n",
              "      <td>[85, night, â, parov, stelar, 84, big, jet, pl...</td>\n",
              "    </tr>\n",
              "    <tr>\n",
              "      <th>2</th>\n",
              "      <td>2012-09-29</td>\n",
              "      <td>It's Time</td>\n",
              "      <td>Glee Cast</td>\n",
              "      <td>blaine so this is what you meant when you said...</td>\n",
              "      <td>-0.014922</td>\n",
              "      <td>318</td>\n",
              "      <td>[blaine, meant, said, spent, time, build, bott...</td>\n",
              "    </tr>\n",
              "    <tr>\n",
              "      <th>3</th>\n",
              "      <td>2012-05-05</td>\n",
              "      <td>Tonight (Best You Ever Had)</td>\n",
              "      <td>John Legend Featuring Ludacris</td>\n",
              "      <td>john legend alright ain't this what you came f...</td>\n",
              "      <td>0.483707</td>\n",
              "      <td>404</td>\n",
              "      <td>[john, legend, alright, aint, came, wish, girl...</td>\n",
              "    </tr>\n",
              "    <tr>\n",
              "      <th>4</th>\n",
              "      <td>1986-05-31</td>\n",
              "      <td>Stick Around</td>\n",
              "      <td>Julian Lennon</td>\n",
              "      <td>if you want to tell me something new i might s...</td>\n",
              "      <td>0.197868</td>\n",
              "      <td>150</td>\n",
              "      <td>[want, tell, something, new, might, stick, aro...</td>\n",
              "    </tr>\n",
              "  </tbody>\n",
              "</table>\n",
              "</div>"
            ],
            "text/plain": [
              "       WeekID  ...                                              words\n",
              "0  1975-07-26  ...  [livin, dyin, cause, love, youve, left, cryin,...\n",
              "1  1982-11-27  ...  [85, night, â, parov, stelar, 84, big, jet, pl...\n",
              "2  2012-09-29  ...  [blaine, meant, said, spent, time, build, bott...\n",
              "3  2012-05-05  ...  [john, legend, alright, aint, came, wish, girl...\n",
              "4  1986-05-31  ...  [want, tell, something, new, might, stick, aro...\n",
              "\n",
              "[5 rows x 7 columns]"
            ]
          },
          "metadata": {
            "tags": []
          },
          "execution_count": 14
        }
      ]
    },
    {
      "cell_type": "code",
      "metadata": {
        "colab": {
          "base_uri": "https://localhost:8080/",
          "height": 561
        },
        "id": "qk0i2WfFR58K",
        "outputId": "260f6047-1c12-4da5-e917-6310f4751b7b"
      },
      "source": [
        "songs.head()"
      ],
      "execution_count": 15,
      "outputs": [
        {
          "output_type": "execute_result",
          "data": {
            "text/html": [
              "<div>\n",
              "<style scoped>\n",
              "    .dataframe tbody tr th:only-of-type {\n",
              "        vertical-align: middle;\n",
              "    }\n",
              "\n",
              "    .dataframe tbody tr th {\n",
              "        vertical-align: top;\n",
              "    }\n",
              "\n",
              "    .dataframe thead th {\n",
              "        text-align: right;\n",
              "    }\n",
              "</style>\n",
              "<table border=\"1\" class=\"dataframe\">\n",
              "  <thead>\n",
              "    <tr style=\"text-align: right;\">\n",
              "      <th></th>\n",
              "      <th>WeekID</th>\n",
              "      <th>Song</th>\n",
              "      <th>Performer</th>\n",
              "      <th>Lyrics</th>\n",
              "      <th>Sentiment</th>\n",
              "      <th>lyric_length</th>\n",
              "      <th>words</th>\n",
              "    </tr>\n",
              "  </thead>\n",
              "  <tbody>\n",
              "    <tr>\n",
              "      <th>0</th>\n",
              "      <td>1975-07-26</td>\n",
              "      <td>The Proud One</td>\n",
              "      <td>The Osmonds</td>\n",
              "      <td>livin is dyin cause love youve left me cryin n...</td>\n",
              "      <td>0.160684</td>\n",
              "      <td>112</td>\n",
              "      <td>[livin, dyin, cause, love, youve, left, cryin,...</td>\n",
              "    </tr>\n",
              "    <tr>\n",
              "      <th>1</th>\n",
              "      <td>1982-11-27</td>\n",
              "      <td>The Elvis Medley</td>\n",
              "      <td>Elvis Presley</td>\n",
              "      <td>85 all night â parov stelar 84 big jet plane â...</td>\n",
              "      <td>0.141266</td>\n",
              "      <td>5781</td>\n",
              "      <td>[85, night, â, parov, stelar, 84, big, jet, pl...</td>\n",
              "    </tr>\n",
              "    <tr>\n",
              "      <th>2</th>\n",
              "      <td>2012-09-29</td>\n",
              "      <td>It's Time</td>\n",
              "      <td>Glee Cast</td>\n",
              "      <td>blaine so this is what you meant when you said...</td>\n",
              "      <td>-0.014922</td>\n",
              "      <td>318</td>\n",
              "      <td>[blaine, meant, said, spent, time, build, bott...</td>\n",
              "    </tr>\n",
              "    <tr>\n",
              "      <th>3</th>\n",
              "      <td>2012-05-05</td>\n",
              "      <td>Tonight (Best You Ever Had)</td>\n",
              "      <td>John Legend Featuring Ludacris</td>\n",
              "      <td>john legend alright ain't this what you came f...</td>\n",
              "      <td>0.483707</td>\n",
              "      <td>404</td>\n",
              "      <td>[john, legend, alright, aint, came, wish, girl...</td>\n",
              "    </tr>\n",
              "    <tr>\n",
              "      <th>4</th>\n",
              "      <td>1986-05-31</td>\n",
              "      <td>Stick Around</td>\n",
              "      <td>Julian Lennon</td>\n",
              "      <td>if you want to tell me something new i might s...</td>\n",
              "      <td>0.197868</td>\n",
              "      <td>150</td>\n",
              "      <td>[want, tell, something, new, might, stick, aro...</td>\n",
              "    </tr>\n",
              "  </tbody>\n",
              "</table>\n",
              "</div>"
            ],
            "text/plain": [
              "       WeekID  ...                                              words\n",
              "0  1975-07-26  ...  [livin, dyin, cause, love, youve, left, cryin,...\n",
              "1  1982-11-27  ...  [85, night, â, parov, stelar, 84, big, jet, pl...\n",
              "2  2012-09-29  ...  [blaine, meant, said, spent, time, build, bott...\n",
              "3  2012-05-05  ...  [john, legend, alright, aint, came, wish, girl...\n",
              "4  1986-05-31  ...  [want, tell, something, new, might, stick, aro...\n",
              "\n",
              "[5 rows x 7 columns]"
            ]
          },
          "metadata": {
            "tags": []
          },
          "execution_count": 15
        }
      ]
    },
    {
      "cell_type": "code",
      "metadata": {
        "colab": {
          "base_uri": "https://localhost:8080/",
          "height": 835
        },
        "id": "8R_ZBhZhY8Jd",
        "outputId": "bdecf14b-4d4f-4fba-ff30-9ba104771d48"
      },
      "source": [
        "new_songs['Sentiment'].plot()\n",
        "plt.ylabel('Sentiment Score')\n",
        "plt.title('Lineplot of Sentiment Score')\n",
        "plt.show();\n",
        "new_songs['lyric_length'].plot()\n",
        "plt.ylabel('Lyric Length')\n",
        "plt.title('Lineplot of Lyric Length')\n",
        "plt.show();\n",
        "new_songs[['Sentiment', 'lyric_length']].plot(kind='area', y='lyric_length', x='Sentiment', stacked=False, color='green')\n",
        "plt.title('Areaplot of Sentiment vs Lyric Length')\n",
        "plt.show();"
      ],
      "execution_count": 16,
      "outputs": [
        {
          "output_type": "display_data",
          "data": {
            "image/png": "[encoded data removed]",
            "text/plain": [
              "<Figure size 432x288 with 1 Axes>"
            ]
          },
          "metadata": {
            "tags": []
          }
        },
        {
          "output_type": "display_data",
          "data": {
            "image/png": "[encoded data removed]",
            "text/plain": [
              "<Figure size 432x288 with 1 Axes>"
            ]
          },
          "metadata": {
            "tags": []
          }
        },
        {
          "output_type": "display_data",
          "data": {
            "image/png": "[encoded data removed]",
            "text/plain": [
              "<Figure size 432x288 with 1 Axes>"
            ]
          },
          "metadata": {
            "tags": []
          }
        }
      ]
    },
    {
      "cell_type": "markdown",
      "metadata": {
        "id": "iq1-KXLMY8Jf"
      },
      "source": [
        "## Convert Sentiments to Discrete Values"
      ]
    },
    {
      "cell_type": "code",
      "metadata": {
        "colab": {
          "base_uri": "https://localhost:8080/",
          "height": 666
        },
        "id": "9K4LOqpOY8Jg",
        "outputId": "086cb898-a543-4cf3-92ec-230de754ab3d"
      },
      "source": [
        "# transform sentiments to discrete variable\n",
        "\n",
        "labels = []\n",
        "\n",
        "for i in new_songs['Sentiment']:\n",
        "  if i < .075:\n",
        "    labels.append(0)\n",
        "  elif i > 0.15:\n",
        "    labels.append(2)\n",
        "  else: \n",
        "    labels.append(1)\n",
        "\n",
        "new_songs['label'] = labels\n",
        "\n",
        "\n",
        "#new_songs['Sentiment'].loc[new_songs['Sentiment'] < -0.25] = 'neg'\n",
        "#new_songs['Sentiment'][~new_songs['Sentiment'].between(-0.25,0.25)] = 'neu'\n",
        "#new_songs['Sentiment'].loc[new_songs['Sentiment'] > 0.25] = 'pos'\n",
        "\n",
        "new_songs['label'] = new_songs['label'].astype('category')\n",
        "\n",
        "new_songs.head()"
      ],
      "execution_count": 17,
      "outputs": [
        {
          "output_type": "execute_result",
          "data": {
            "text/html": [
              "<div>\n",
              "<style scoped>\n",
              "    .dataframe tbody tr th:only-of-type {\n",
              "        vertical-align: middle;\n",
              "    }\n",
              "\n",
              "    .dataframe tbody tr th {\n",
              "        vertical-align: top;\n",
              "    }\n",
              "\n",
              "    .dataframe thead th {\n",
              "        text-align: right;\n",
              "    }\n",
              "</style>\n",
              "<table border=\"1\" class=\"dataframe\">\n",
              "  <thead>\n",
              "    <tr style=\"text-align: right;\">\n",
              "      <th></th>\n",
              "      <th>WeekID</th>\n",
              "      <th>Song</th>\n",
              "      <th>Performer</th>\n",
              "      <th>Lyrics</th>\n",
              "      <th>Sentiment</th>\n",
              "      <th>lyric_length</th>\n",
              "      <th>words</th>\n",
              "      <th>label</th>\n",
              "    </tr>\n",
              "  </thead>\n",
              "  <tbody>\n",
              "    <tr>\n",
              "      <th>0</th>\n",
              "      <td>1975-07-26</td>\n",
              "      <td>The Proud One</td>\n",
              "      <td>The Osmonds</td>\n",
              "      <td>livin is dyin cause love youve left me cryin n...</td>\n",
              "      <td>0.160684</td>\n",
              "      <td>112</td>\n",
              "      <td>[livin, dyin, cause, love, youve, left, cryin,...</td>\n",
              "      <td>2</td>\n",
              "    </tr>\n",
              "    <tr>\n",
              "      <th>1</th>\n",
              "      <td>1982-11-27</td>\n",
              "      <td>The Elvis Medley</td>\n",
              "      <td>Elvis Presley</td>\n",
              "      <td>85 all night â parov stelar 84 big jet plane â...</td>\n",
              "      <td>0.141266</td>\n",
              "      <td>5781</td>\n",
              "      <td>[85, night, â, parov, stelar, 84, big, jet, pl...</td>\n",
              "      <td>1</td>\n",
              "    </tr>\n",
              "    <tr>\n",
              "      <th>2</th>\n",
              "      <td>2012-09-29</td>\n",
              "      <td>It's Time</td>\n",
              "      <td>Glee Cast</td>\n",
              "      <td>blaine so this is what you meant when you said...</td>\n",
              "      <td>-0.014922</td>\n",
              "      <td>318</td>\n",
              "      <td>[blaine, meant, said, spent, time, build, bott...</td>\n",
              "      <td>0</td>\n",
              "    </tr>\n",
              "    <tr>\n",
              "      <th>3</th>\n",
              "      <td>2012-05-05</td>\n",
              "      <td>Tonight (Best You Ever Had)</td>\n",
              "      <td>John Legend Featuring Ludacris</td>\n",
              "      <td>john legend alright ain't this what you came f...</td>\n",
              "      <td>0.483707</td>\n",
              "      <td>404</td>\n",
              "      <td>[john, legend, alright, aint, came, wish, girl...</td>\n",
              "      <td>2</td>\n",
              "    </tr>\n",
              "    <tr>\n",
              "      <th>4</th>\n",
              "      <td>1986-05-31</td>\n",
              "      <td>Stick Around</td>\n",
              "      <td>Julian Lennon</td>\n",
              "      <td>if you want to tell me something new i might s...</td>\n",
              "      <td>0.197868</td>\n",
              "      <td>150</td>\n",
              "      <td>[want, tell, something, new, might, stick, aro...</td>\n",
              "      <td>2</td>\n",
              "    </tr>\n",
              "  </tbody>\n",
              "</table>\n",
              "</div>"
            ],
            "text/plain": [
              "       WeekID  ... label\n",
              "0  1975-07-26  ...     2\n",
              "1  1982-11-27  ...     1\n",
              "2  2012-09-29  ...     0\n",
              "3  2012-05-05  ...     2\n",
              "4  1986-05-31  ...     2\n",
              "\n",
              "[5 rows x 8 columns]"
            ]
          },
          "metadata": {
            "tags": []
          },
          "execution_count": 17
        }
      ]
    },
    {
      "cell_type": "code",
      "metadata": {
        "colab": {
          "base_uri": "https://localhost:8080/"
        },
        "id": "pin-3B92Y8Jh",
        "outputId": "e73934dd-cfc8-445d-9669-8c2e16221e40"
      },
      "source": [
        "# Count of Sentiment Classes\n",
        "\n",
        "Counter(new_songs['label'])"
      ],
      "execution_count": 18,
      "outputs": [
        {
          "output_type": "execute_result",
          "data": {
            "text/plain": [
              "Counter({0: 8203, 1: 4090, 2: 8617})"
            ]
          },
          "metadata": {
            "tags": []
          },
          "execution_count": 18
        }
      ]
    },
    {
      "cell_type": "code",
      "metadata": {
        "scrolled": true,
        "colab": {
          "base_uri": "https://localhost:8080/"
        },
        "id": "GT9ZP8dMY8Ji",
        "outputId": "4b383e0b-c44d-441c-b887-f125cd07213f"
      },
      "source": [
        "new_songs['label'].dtype"
      ],
      "execution_count": 19,
      "outputs": [
        {
          "output_type": "execute_result",
          "data": {
            "text/plain": [
              "CategoricalDtype(categories=[0, 1, 2], ordered=False)"
            ]
          },
          "metadata": {
            "tags": []
          },
          "execution_count": 19
        }
      ]
    },
    {
      "cell_type": "markdown",
      "metadata": {
        "id": "vl8PFKw9Y8Jj"
      },
      "source": [
        "## Baseline Model"
      ]
    },
    {
      "cell_type": "code",
      "metadata": {
        "id": "IKJP_vn6Y8Jj"
      },
      "source": [
        "from sklearn.model_selection import train_test_split\n",
        "\n",
        "lyrics = new_songs['words']\n",
        "y = new_songs['label']\n",
        "\n",
        "lyrics_train, lyrics_test, y_train, y_test = train_test_split(lyrics,y,\n",
        "                                                             test_size=.25,\n",
        "                                                             random_state=0)"
      ],
      "execution_count": 20,
      "outputs": []
    },
    {
      "cell_type": "code",
      "metadata": {
        "colab": {
          "base_uri": "https://localhost:8080/"
        },
        "id": "NP2-g74UY8Jk",
        "outputId": "2dd62755-4fce-4344-8966-af4494f39d7d"
      },
      "source": [
        "# Create BoW\n",
        "\n",
        "from sklearn.feature_extraction.text import CountVectorizer\n",
        "\n",
        "vectorizer = CountVectorizer()\n",
        "\n",
        "train_bow = vectorizer.fit_transform(' '.join(text) for text in lyrics_train)\n",
        "test_bow = vectorizer.transform(' '.join(text) for text in lyrics_test)\n",
        "\n",
        "X_train = train_bow\n",
        "X_test  = test_bow\n",
        "X_train"
      ],
      "execution_count": 21,
      "outputs": [
        {
          "output_type": "execute_result",
          "data": {
            "text/plain": [
              "<15682x226678 sparse matrix of type '<class 'numpy.int64'>'\n",
              "\twith 5786702 stored elements in Compressed Sparse Row format>"
            ]
          },
          "metadata": {
            "tags": []
          },
          "execution_count": 21
        }
      ]
    },
    {
      "cell_type": "code",
      "metadata": {
        "scrolled": true,
        "colab": {
          "base_uri": "https://localhost:8080/"
        },
        "id": "bWTJrZIBY8Jl",
        "outputId": "1c7b4404-7504-4e9b-d25d-0e727cfe8287"
      },
      "source": [
        "# baseline logistic regression\n",
        "\n",
        "from sklearn.linear_model import LogisticRegression\n",
        "from sklearn.metrics import classification_report, roc_auc_score, accuracy_score\n",
        "\n",
        "clf = LogisticRegression()\n",
        "clf.fit(X_train, y_train)\n",
        "\n",
        "pred = clf.predict(X_test)\n",
        "\n",
        "print('Accuracy', accuracy_score(y_test, pred), '\\n')\n",
        "#print('ROC AUC:', roc_auc_score(y_test, pred))\n",
        "print(classification_report(y_test, pred))"
      ],
      "execution_count": 22,
      "outputs": [
        {
          "output_type": "stream",
          "text": [
            "Accuracy 0.8031752104055088 \n",
            "\n",
            "              precision    recall  f1-score   support\n",
            "\n",
            "           0       0.83      0.84      0.84      2079\n",
            "           1       0.67      0.62      0.65       997\n",
            "           2       0.83      0.85      0.84      2152\n",
            "\n",
            "    accuracy                           0.80      5228\n",
            "   macro avg       0.78      0.77      0.77      5228\n",
            "weighted avg       0.80      0.80      0.80      5228\n",
            "\n"
          ],
          "name": "stdout"
        },
        {
          "output_type": "stream",
          "text": [
            "/usr/local/lib/python3.6/dist-packages/sklearn/linear_model/_logistic.py:940: ConvergenceWarning: lbfgs failed to converge (status=1):\n",
            "STOP: TOTAL NO. of ITERATIONS REACHED LIMIT.\n",
            "\n",
            "Increase the number of iterations (max_iter) or scale the data as shown in:\n",
            "    https://scikit-learn.org/stable/modules/preprocessing.html\n",
            "Please also refer to the documentation for alternative solver options:\n",
            "    https://scikit-learn.org/stable/modules/linear_model.html#logistic-regression\n",
            "  extra_warning_msg=_LOGISTIC_SOLVER_CONVERGENCE_MSG)\n"
          ],
          "name": "stderr"
        }
      ]
    },
    {
      "cell_type": "code",
      "metadata": {
        "id": "povyEimdoJMV"
      },
      "source": [
        "# Unigram & Bigrams Logistic Reg\r\n",
        "\r\n",
        "vectorizer = CountVectorizer(ngram_range=(1,2))\r\n",
        "\r\n",
        "train_bow = vectorizer.fit_transform(' '.join(text) for text in lyrics_train)\r\n",
        "test_bow = vectorizer.transform(' '.join(text) for text in lyrics_test)\r\n",
        "\r\n",
        "X_train = train_bow\r\n",
        "X_test  = test_bow\r\n",
        "X_train\r\n",
        "\r\n",
        "clf = LogisticRegression()\r\n",
        "clf.fit(X_train, y_train)\r\n",
        "\r\n",
        "pred = clf.predict(X_test)\r\n",
        "\r\n",
        "print('Accuracy', accuracy_score(y_test, pred), '\\n')\r\n",
        "#print('ROC AUC:', roc_auc_score(y_test, pred))\r\n",
        "print(classification_report(y_test, pred))\r\n",
        "pickle.dump(clf, open('uni & bi log', 'wb'))"
      ],
      "execution_count": null,
      "outputs": []
    },
    {
      "cell_type": "code",
      "metadata": {
        "id": "nLU14f6HoJif"
      },
      "source": [
        "# Bigrams Logistic Reg\r\n",
        "\r\n",
        "vectorizer = CountVectorizer(ngram_range=(2,2))\r\n",
        "\r\n",
        "train_bow = vectorizer.fit_transform(' '.join(text) for text in lyrics_train)\r\n",
        "test_bow = vectorizer.transform(' '.join(text) for text in lyrics_test)\r\n",
        "\r\n",
        "X_train = train_bow\r\n",
        "X_test  = test_bow\r\n",
        "X_train\r\n",
        "\r\n",
        "clf = LogisticRegression()\r\n",
        "clf.fit(X_train, y_train)\r\n",
        "\r\n",
        "pred = clf.predict(X_test)\r\n",
        "\r\n",
        "print('Accuracy', accuracy_score(y_test, pred), '\\n')\r\n",
        "#print('ROC AUC:', roc_auc_score(y_test, pred))\r\n",
        "print(classification_report(y_test, pred))\r\n",
        "pickle.dump(clf, open('bigram log', 'wb'))"
      ],
      "execution_count": null,
      "outputs": []
    },
    {
      "cell_type": "code",
      "metadata": {
        "id": "PTV9ptTBoKbQ"
      },
      "source": [
        "#Grid Search\r\n",
        "\r\n",
        "from sklearn.model_selection import GridSearchCV\r\n",
        "\r\n",
        "grid_values = {'penalty': ['l1', 'l2'],\r\n",
        "               'C':[0.001,.009,0.01,.09,1,5,10,25],\r\n",
        "               'class_weight': ['balanced', None]}\r\n",
        "\r\n",
        "log_grid = GridSearchCV(estimator = clf, \r\n",
        "                            param_grid = grid_values,\r\n",
        "                            scoring = 'accuracy',\r\n",
        "                            cv = 3,\r\n",
        "                            verbose = 2,\r\n",
        "                            n_jobs = 2)\r\n",
        "\r\n",
        "log_grid.fit(X_train, y_train.values.ravel())\r\n",
        "\r\n",
        "# Confusion Matrix Plot\r\n",
        "\r\n",
        "plot_confusion_matrix(log_grid, X_test, y_test, cmap=plt.cm.Blues)\r\n",
        "plt.grid(False)\r\n",
        "plt.show();\r\n",
        "\r\n",
        "#Predict values based on new parameters\r\n",
        "\r\n",
        "pred = log_grid.predict(X_test)\r\n",
        "\r\n",
        "con_mat = confusion_matrix(y_test, pred)\r\n",
        "\r\n",
        "print('Confusion Matrix:\\n', con_mat)\r\n",
        "\r\n",
        "print('Misclassification Rate:', mis_class(con_mat))\r\n",
        "\r\n",
        "print('Training Accuracy:', log_grid.score(X_train,y_train))\r\n",
        "print('Testing Accuracy:', accuracy_score(y_test, pred))\r\n",
        "print('Classification Report:\\n', classification_report(y_test, pred))"
      ],
      "execution_count": null,
      "outputs": []
    },
    {
      "cell_type": "markdown",
      "metadata": {
        "id": "mE0nk7fhY8Jm"
      },
      "source": [
        "## CNN's"
      ]
    },
    {
      "cell_type": "markdown",
      "metadata": {
        "id": "9YWsT06RY8Jv"
      },
      "source": [
        "**Note:** Pay close attention to the difference between this technique and the X_train that was produced by scikit-learn’s CountVectorizer.\n",
        "\n",
        "With CountVectorizer, we had stacked vectors of word counts, and each vector was the same length (the size of the total corpus vocabulary). With Tokenizer, the resulting vectors equal the length of each text, and the numbers don’t denote counts, but rather correspond to the word values from the dictionary tokenizer.word_index."
      ]
    },
    {
      "cell_type": "code",
      "metadata": {
        "colab": {
          "base_uri": "https://localhost:8080/"
        },
        "id": "nfocMTaLZ6pV",
        "outputId": "2c550b0f-eff3-417e-e980-8620bcfea90d"
      },
      "source": [
        "from pickle import load\r\n",
        "from numpy import array\r\n",
        "from keras.preprocessing.text import Tokenizer\r\n",
        "from keras.preprocessing.sequence import pad_sequences\r\n",
        "from keras.utils.vis_utils import plot_model\r\n",
        "from keras.models import Model\r\n",
        "from keras.layers import Input\r\n",
        "from keras.layers import Dense\r\n",
        "from keras.layers import Flatten\r\n",
        "from keras.layers import Dropout\r\n",
        "from keras.layers import Embedding\r\n",
        "from keras.layers.convolutional import Conv1D\r\n",
        "from keras.layers.convolutional import MaxPooling1D\r\n",
        "from keras.layers.merge import concatenate\r\n",
        "\r\n",
        "# fit a tokenizer\r\n",
        "def create_tokenizer(lines):\r\n",
        "\ttokenizer = Tokenizer()\r\n",
        "\ttokenizer.fit_on_texts(lines)\r\n",
        "\treturn tokenizer\r\n",
        " \r\n",
        "# calculate the maximum document length\r\n",
        "def max_length(lines):\r\n",
        "\treturn max([len(s) for s in lines])\r\n",
        " \r\n",
        "# encode a list of lines\r\n",
        "def encode_text(tokenizer, lines, length):\r\n",
        "\t# integer encode\r\n",
        "\tencoded = tokenizer.texts_to_sequences(lines)\r\n",
        "\t# pad encoded sequences\r\n",
        "\tpadded = pad_sequences(encoded, maxlen=length, padding='post')\r\n",
        "\treturn padded\r\n",
        " \r\n",
        "# define the model\r\n",
        "def define_model(length, vocab_size):\r\n",
        "\t# channel 1\r\n",
        "\tinputs1 = Input(shape=(length,))\r\n",
        "\tembedding1 = Embedding(vocab_size, 100)(inputs1)\r\n",
        "\tconv1 = Conv1D(filters=32, kernel_size=4, activation='relu')(embedding1)\r\n",
        "\tdrop1 = Dropout(0.5)(conv1)\r\n",
        "\tpool1 = MaxPooling1D(pool_size=2)(drop1)\r\n",
        "\tflat1 = Flatten()(pool1)\r\n",
        "\t# channel 2\r\n",
        "\tinputs2 = Input(shape=(length,))\r\n",
        "\tembedding2 = Embedding(vocab_size, 100)(inputs2)\r\n",
        "\tconv2 = Conv1D(filters=32, kernel_size=6, activation='relu')(embedding2)\r\n",
        "\tdrop2 = Dropout(0.5)(conv2)\r\n",
        "\tpool2 = MaxPooling1D(pool_size=2)(drop2)\r\n",
        "\tflat2 = Flatten()(pool2)\r\n",
        "\t# channel 3\r\n",
        "\tinputs3 = Input(shape=(length,))\r\n",
        "\tembedding3 = Embedding(vocab_size, 100)(inputs3)\r\n",
        "\tconv3 = Conv1D(filters=32, kernel_size=8, activation='relu')(embedding3)\r\n",
        "\tdrop3 = Dropout(0.5)(conv3)\r\n",
        "\tpool3 = MaxPooling1D(pool_size=2)(drop3)\r\n",
        "\tflat3 = Flatten()(pool3)\r\n",
        "\t# merge\r\n",
        "\tmerged = concatenate([flat1, flat2, flat3])\r\n",
        "\t# interpretation\r\n",
        "\tdense1 = Dense(10, activation='relu')(merged)\r\n",
        "\toutputs = Dense(1, activation='softmax')(dense1)\r\n",
        "\tmodel = Model(inputs=[inputs1, inputs2, inputs3], outputs=outputs)\r\n",
        "\t# compile\r\n",
        "\tmodel.compile(loss='categorical_crossentropy', optimizer='adam', metrics=['accuracy'])\r\n",
        "\t# summarize\r\n",
        "\tprint(model.summary())\r\n",
        "\tplot_model(model, show_shapes=True, to_file='multichannel.png')\r\n",
        "\treturn model\r\n",
        " \r\n",
        "# create tokenizer\r\n",
        "tokenizer = create_tokenizer(lyrics_train)\r\n",
        "# calculate max document length\r\n",
        "length = max_length(lyrics_train)\r\n",
        "# calculate vocabulary size\r\n",
        "vocab_size = len(tokenizer.word_index) + 1\r\n",
        "print('Max document length: %d' % length)\r\n",
        "print('Vocabulary size: %d' % vocab_size)\r\n",
        "# encode data\r\n",
        "trainX = encode_text(tokenizer, lyrics_train, length)\r\n",
        "print(trainX.shape)\r\n",
        " \r\n",
        "# define model\r\n",
        "model = define_model(length, vocab_size)\r\n",
        "# fit model\r\n",
        "model.fit([trainX,trainX,trainX], array(y_train), epochs=10, batch_size=16)\r\n",
        "# save the model\r\n",
        "model.save('Kim/Cano CNN')"
      ],
      "execution_count": 24,
      "outputs": [
        {
          "output_type": "stream",
          "text": [
            "Max document length: 11489\n",
            "Vocabulary size: 226727\n",
            "(15682, 11489)\n",
            "Model: \"functional_1\"\n",
            "__________________________________________________________________________________________________\n",
            "Layer (type)                    Output Shape         Param #     Connected to                     \n",
            "==================================================================================================\n",
            "input_1 (InputLayer)            [(None, 11489)]      0                                            \n",
            "__________________________________________________________________________________________________\n",
            "input_2 (InputLayer)            [(None, 11489)]      0                                            \n",
            "__________________________________________________________________________________________________\n",
            "input_3 (InputLayer)            [(None, 11489)]      0                                            \n",
            "__________________________________________________________________________________________________\n",
            "embedding (Embedding)           (None, 11489, 100)   22672700    input_1[0][0]                    \n",
            "__________________________________________________________________________________________________\n",
            "embedding_1 (Embedding)         (None, 11489, 100)   22672700    input_2[0][0]                    \n",
            "__________________________________________________________________________________________________\n",
            "embedding_2 (Embedding)         (None, 11489, 100)   22672700    input_3[0][0]                    \n",
            "__________________________________________________________________________________________________\n",
            "conv1d (Conv1D)                 (None, 11486, 32)    12832       embedding[0][0]                  \n",
            "__________________________________________________________________________________________________\n",
            "conv1d_1 (Conv1D)               (None, 11484, 32)    19232       embedding_1[0][0]                \n",
            "__________________________________________________________________________________________________\n",
            "conv1d_2 (Conv1D)               (None, 11482, 32)    25632       embedding_2[0][0]                \n",
            "__________________________________________________________________________________________________\n",
            "dropout (Dropout)               (None, 11486, 32)    0           conv1d[0][0]                     \n",
            "__________________________________________________________________________________________________\n",
            "dropout_1 (Dropout)             (None, 11484, 32)    0           conv1d_1[0][0]                   \n",
            "__________________________________________________________________________________________________\n",
            "dropout_2 (Dropout)             (None, 11482, 32)    0           conv1d_2[0][0]                   \n",
            "__________________________________________________________________________________________________\n",
            "max_pooling1d (MaxPooling1D)    (None, 5743, 32)     0           dropout[0][0]                    \n",
            "__________________________________________________________________________________________________\n",
            "max_pooling1d_1 (MaxPooling1D)  (None, 5742, 32)     0           dropout_1[0][0]                  \n",
            "__________________________________________________________________________________________________\n",
            "max_pooling1d_2 (MaxPooling1D)  (None, 5741, 32)     0           dropout_2[0][0]                  \n",
            "__________________________________________________________________________________________________\n",
            "flatten (Flatten)               (None, 183776)       0           max_pooling1d[0][0]              \n",
            "__________________________________________________________________________________________________\n",
            "flatten_1 (Flatten)             (None, 183744)       0           max_pooling1d_1[0][0]            \n",
            "__________________________________________________________________________________________________\n",
            "flatten_2 (Flatten)             (None, 183712)       0           max_pooling1d_2[0][0]            \n",
            "__________________________________________________________________________________________________\n",
            "concatenate (Concatenate)       (None, 551232)       0           flatten[0][0]                    \n",
            "                                                                 flatten_1[0][0]                  \n",
            "                                                                 flatten_2[0][0]                  \n",
            "__________________________________________________________________________________________________\n",
            "dense (Dense)                   (None, 10)           5512330     concatenate[0][0]                \n",
            "__________________________________________________________________________________________________\n",
            "dense_1 (Dense)                 (None, 1)            11          dense[0][0]                      \n",
            "==================================================================================================\n",
            "Total params: 73,588,137\n",
            "Trainable params: 73,588,137\n",
            "Non-trainable params: 0\n",
            "__________________________________________________________________________________________________\n",
            "None\n",
            "Epoch 1/10\n",
            "981/981 [==============================] - 659s 672ms/step - loss: 1.2180e-07 - accuracy: 0.3701\n",
            "Epoch 2/10\n",
            "981/981 [==============================] - 658s 671ms/step - loss: 1.2180e-07 - accuracy: 0.3633\n",
            "Epoch 3/10\n",
            "981/981 [==============================] - 659s 672ms/step - loss: 1.2180e-07 - accuracy: 0.3691\n",
            "Epoch 4/10\n",
            "981/981 [==============================] - 656s 669ms/step - loss: 1.2180e-07 - accuracy: 0.3675\n",
            "Epoch 5/10\n",
            "981/981 [==============================] - 655s 668ms/step - loss: 1.2180e-07 - accuracy: 0.3697\n",
            "Epoch 6/10\n",
            "981/981 [==============================] - 657s 670ms/step - loss: 1.2180e-07 - accuracy: 0.3708\n",
            "Epoch 7/10\n",
            "981/981 [==============================] - 657s 670ms/step - loss: 1.2180e-07 - accuracy: 0.3672\n",
            "Epoch 8/10\n",
            "981/981 [==============================] - 664s 676ms/step - loss: 1.2180e-07 - accuracy: 0.3663\n",
            "Epoch 9/10\n",
            "981/981 [==============================] - 662s 675ms/step - loss: 1.2180e-07 - accuracy: 0.3661\n",
            "Epoch 10/10\n",
            "981/981 [==============================] - 662s 675ms/step - loss: 1.2180e-07 - accuracy: 0.3679\n",
            "WARNING:tensorflow:From /usr/local/lib/python3.6/dist-packages/tensorflow/python/training/tracking/tracking.py:111: Model.state_updates (from tensorflow.python.keras.engine.training) is deprecated and will be removed in a future version.\n",
            "Instructions for updating:\n",
            "This property should not be used in TensorFlow 2.0, as updates are applied automatically.\n",
            "WARNING:tensorflow:From /usr/local/lib/python3.6/dist-packages/tensorflow/python/training/tracking/tracking.py:111: Layer.updates (from tensorflow.python.keras.engine.base_layer) is deprecated and will be removed in a future version.\n",
            "Instructions for updating:\n",
            "This property should not be used in TensorFlow 2.0, as updates are applied automatically.\n",
            "INFO:tensorflow:Assets written to: Kim/Cano CNN/assets\n"
          ],
          "name": "stdout"
        }
      ]
    },
    {
      "cell_type": "code",
      "metadata": {
        "colab": {
          "base_uri": "https://localhost:8080/",
          "height": 1000
        },
        "id": "eVH67DxsslPq",
        "outputId": "b2bf7a81-218b-4572-fac9-8cde9b640fd8"
      },
      "source": [
        "# report\r\n",
        "\r\n",
        "y_pred = model.predict(X_test, batch_size=64, verbose=1)\r\n",
        "y_pred_bool = np.argmax(y_pred, axis=1)\r\n",
        "\r\n",
        "print(classification_report(y_test, y_pred))"
      ],
      "execution_count": 27,
      "outputs": [
        {
          "output_type": "error",
          "ename": "TypeError",
          "evalue": "ignored",
          "traceback": [
            "\u001b[0;31m---------------------------------------------------------------------------\u001b[0m",
            "\u001b[0;31mTypeError\u001b[0m                                 Traceback (most recent call last)",
            "\u001b[0;32m<ipython-input-27-adae8a2f48b2>\u001b[0m in \u001b[0;36m<module>\u001b[0;34m()\u001b[0m\n\u001b[1;32m      1\u001b[0m \u001b[0;31m# report\u001b[0m\u001b[0;34m\u001b[0m\u001b[0;34m\u001b[0m\u001b[0;34m\u001b[0m\u001b[0m\n\u001b[1;32m      2\u001b[0m \u001b[0;34m\u001b[0m\u001b[0m\n\u001b[0;32m----> 3\u001b[0;31m \u001b[0my_pred\u001b[0m \u001b[0;34m=\u001b[0m \u001b[0mmodel\u001b[0m\u001b[0;34m.\u001b[0m\u001b[0mpredict\u001b[0m\u001b[0;34m(\u001b[0m\u001b[0mX_test\u001b[0m\u001b[0;34m,\u001b[0m \u001b[0mbatch_size\u001b[0m\u001b[0;34m=\u001b[0m\u001b[0;36m64\u001b[0m\u001b[0;34m,\u001b[0m \u001b[0mverbose\u001b[0m\u001b[0;34m=\u001b[0m\u001b[0;36m1\u001b[0m\u001b[0;34m)\u001b[0m\u001b[0;34m\u001b[0m\u001b[0;34m\u001b[0m\u001b[0m\n\u001b[0m\u001b[1;32m      4\u001b[0m \u001b[0my_pred_bool\u001b[0m \u001b[0;34m=\u001b[0m \u001b[0mnp\u001b[0m\u001b[0;34m.\u001b[0m\u001b[0margmax\u001b[0m\u001b[0;34m(\u001b[0m\u001b[0my_pred\u001b[0m\u001b[0;34m,\u001b[0m \u001b[0maxis\u001b[0m\u001b[0;34m=\u001b[0m\u001b[0;36m1\u001b[0m\u001b[0;34m)\u001b[0m\u001b[0;34m\u001b[0m\u001b[0;34m\u001b[0m\u001b[0m\n\u001b[1;32m      5\u001b[0m \u001b[0;34m\u001b[0m\u001b[0m\n",
            "\u001b[0;32m/usr/local/lib/python3.6/dist-packages/tensorflow/python/keras/engine/training.py\u001b[0m in \u001b[0;36m_method_wrapper\u001b[0;34m(self, *args, **kwargs)\u001b[0m\n\u001b[1;32m    128\u001b[0m       raise ValueError('{} is not supported in multi-worker mode.'.format(\n\u001b[1;32m    129\u001b[0m           method.__name__))\n\u001b[0;32m--> 130\u001b[0;31m     \u001b[0;32mreturn\u001b[0m \u001b[0mmethod\u001b[0m\u001b[0;34m(\u001b[0m\u001b[0mself\u001b[0m\u001b[0;34m,\u001b[0m \u001b[0;34m*\u001b[0m\u001b[0margs\u001b[0m\u001b[0;34m,\u001b[0m \u001b[0;34m**\u001b[0m\u001b[0mkwargs\u001b[0m\u001b[0;34m)\u001b[0m\u001b[0;34m\u001b[0m\u001b[0;34m\u001b[0m\u001b[0m\n\u001b[0m\u001b[1;32m    131\u001b[0m \u001b[0;34m\u001b[0m\u001b[0m\n\u001b[1;32m    132\u001b[0m   return tf_decorator.make_decorator(\n",
            "\u001b[0;32m/usr/local/lib/python3.6/dist-packages/tensorflow/python/keras/engine/training.py\u001b[0m in \u001b[0;36mpredict\u001b[0;34m(self, x, batch_size, verbose, steps, callbacks, max_queue_size, workers, use_multiprocessing)\u001b[0m\n\u001b[1;32m   1597\u001b[0m           \u001b[0;32mfor\u001b[0m \u001b[0mstep\u001b[0m \u001b[0;32min\u001b[0m \u001b[0mdata_handler\u001b[0m\u001b[0;34m.\u001b[0m\u001b[0msteps\u001b[0m\u001b[0;34m(\u001b[0m\u001b[0;34m)\u001b[0m\u001b[0;34m:\u001b[0m\u001b[0;34m\u001b[0m\u001b[0;34m\u001b[0m\u001b[0m\n\u001b[1;32m   1598\u001b[0m             \u001b[0mcallbacks\u001b[0m\u001b[0;34m.\u001b[0m\u001b[0mon_predict_batch_begin\u001b[0m\u001b[0;34m(\u001b[0m\u001b[0mstep\u001b[0m\u001b[0;34m)\u001b[0m\u001b[0;34m\u001b[0m\u001b[0;34m\u001b[0m\u001b[0m\n\u001b[0;32m-> 1599\u001b[0;31m             \u001b[0mtmp_batch_outputs\u001b[0m \u001b[0;34m=\u001b[0m \u001b[0mpredict_function\u001b[0m\u001b[0;34m(\u001b[0m\u001b[0miterator\u001b[0m\u001b[0;34m)\u001b[0m\u001b[0;34m\u001b[0m\u001b[0;34m\u001b[0m\u001b[0m\n\u001b[0m\u001b[1;32m   1600\u001b[0m             \u001b[0;32mif\u001b[0m \u001b[0mdata_handler\u001b[0m\u001b[0;34m.\u001b[0m\u001b[0mshould_sync\u001b[0m\u001b[0;34m:\u001b[0m\u001b[0;34m\u001b[0m\u001b[0;34m\u001b[0m\u001b[0m\n\u001b[1;32m   1601\u001b[0m               \u001b[0mcontext\u001b[0m\u001b[0;34m.\u001b[0m\u001b[0masync_wait\u001b[0m\u001b[0;34m(\u001b[0m\u001b[0;34m)\u001b[0m\u001b[0;34m\u001b[0m\u001b[0;34m\u001b[0m\u001b[0m\n",
            "\u001b[0;32m/usr/local/lib/python3.6/dist-packages/tensorflow/python/eager/def_function.py\u001b[0m in \u001b[0;36m__call__\u001b[0;34m(self, *args, **kwds)\u001b[0m\n\u001b[1;32m    778\u001b[0m       \u001b[0;32melse\u001b[0m\u001b[0;34m:\u001b[0m\u001b[0;34m\u001b[0m\u001b[0;34m\u001b[0m\u001b[0m\n\u001b[1;32m    779\u001b[0m         \u001b[0mcompiler\u001b[0m \u001b[0;34m=\u001b[0m \u001b[0;34m\"nonXla\"\u001b[0m\u001b[0;34m\u001b[0m\u001b[0;34m\u001b[0m\u001b[0m\n\u001b[0;32m--> 780\u001b[0;31m         \u001b[0mresult\u001b[0m \u001b[0;34m=\u001b[0m \u001b[0mself\u001b[0m\u001b[0;34m.\u001b[0m\u001b[0m_call\u001b[0m\u001b[0;34m(\u001b[0m\u001b[0;34m*\u001b[0m\u001b[0margs\u001b[0m\u001b[0;34m,\u001b[0m \u001b[0;34m**\u001b[0m\u001b[0mkwds\u001b[0m\u001b[0;34m)\u001b[0m\u001b[0;34m\u001b[0m\u001b[0;34m\u001b[0m\u001b[0m\n\u001b[0m\u001b[1;32m    781\u001b[0m \u001b[0;34m\u001b[0m\u001b[0m\n\u001b[1;32m    782\u001b[0m       \u001b[0mnew_tracing_count\u001b[0m \u001b[0;34m=\u001b[0m \u001b[0mself\u001b[0m\u001b[0;34m.\u001b[0m\u001b[0m_get_tracing_count\u001b[0m\u001b[0;34m(\u001b[0m\u001b[0;34m)\u001b[0m\u001b[0;34m\u001b[0m\u001b[0;34m\u001b[0m\u001b[0m\n",
            "\u001b[0;32m/usr/local/lib/python3.6/dist-packages/tensorflow/python/eager/def_function.py\u001b[0m in \u001b[0;36m_call\u001b[0;34m(self, *args, **kwds)\u001b[0m\n\u001b[1;32m    812\u001b[0m       \u001b[0;31m# In this case we have not created variables on the first call. So we can\u001b[0m\u001b[0;34m\u001b[0m\u001b[0;34m\u001b[0m\u001b[0;34m\u001b[0m\u001b[0m\n\u001b[1;32m    813\u001b[0m       \u001b[0;31m# run the first trace but we should fail if variables are created.\u001b[0m\u001b[0;34m\u001b[0m\u001b[0;34m\u001b[0m\u001b[0;34m\u001b[0m\u001b[0m\n\u001b[0;32m--> 814\u001b[0;31m       \u001b[0mresults\u001b[0m \u001b[0;34m=\u001b[0m \u001b[0mself\u001b[0m\u001b[0;34m.\u001b[0m\u001b[0m_stateful_fn\u001b[0m\u001b[0;34m(\u001b[0m\u001b[0;34m*\u001b[0m\u001b[0margs\u001b[0m\u001b[0;34m,\u001b[0m \u001b[0;34m**\u001b[0m\u001b[0mkwds\u001b[0m\u001b[0;34m)\u001b[0m\u001b[0;34m\u001b[0m\u001b[0;34m\u001b[0m\u001b[0m\n\u001b[0m\u001b[1;32m    815\u001b[0m       \u001b[0;32mif\u001b[0m \u001b[0mself\u001b[0m\u001b[0;34m.\u001b[0m\u001b[0m_created_variables\u001b[0m\u001b[0;34m:\u001b[0m\u001b[0;34m\u001b[0m\u001b[0;34m\u001b[0m\u001b[0m\n\u001b[1;32m    816\u001b[0m         raise ValueError(\"Creating variables on a non-first call to a function\"\n",
            "\u001b[0;32m/usr/local/lib/python3.6/dist-packages/tensorflow/python/eager/function.py\u001b[0m in \u001b[0;36m__call__\u001b[0;34m(self, *args, **kwargs)\u001b[0m\n\u001b[1;32m   2826\u001b[0m     \u001b[0;34m\"\"\"Calls a graph function specialized to the inputs.\"\"\"\u001b[0m\u001b[0;34m\u001b[0m\u001b[0;34m\u001b[0m\u001b[0m\n\u001b[1;32m   2827\u001b[0m     \u001b[0;32mwith\u001b[0m \u001b[0mself\u001b[0m\u001b[0;34m.\u001b[0m\u001b[0m_lock\u001b[0m\u001b[0;34m:\u001b[0m\u001b[0;34m\u001b[0m\u001b[0;34m\u001b[0m\u001b[0m\n\u001b[0;32m-> 2828\u001b[0;31m       \u001b[0mgraph_function\u001b[0m\u001b[0;34m,\u001b[0m \u001b[0margs\u001b[0m\u001b[0;34m,\u001b[0m \u001b[0mkwargs\u001b[0m \u001b[0;34m=\u001b[0m \u001b[0mself\u001b[0m\u001b[0;34m.\u001b[0m\u001b[0m_maybe_define_function\u001b[0m\u001b[0;34m(\u001b[0m\u001b[0margs\u001b[0m\u001b[0;34m,\u001b[0m \u001b[0mkwargs\u001b[0m\u001b[0;34m)\u001b[0m\u001b[0;34m\u001b[0m\u001b[0;34m\u001b[0m\u001b[0m\n\u001b[0m\u001b[1;32m   2829\u001b[0m     \u001b[0;32mreturn\u001b[0m \u001b[0mgraph_function\u001b[0m\u001b[0;34m.\u001b[0m\u001b[0m_filtered_call\u001b[0m\u001b[0;34m(\u001b[0m\u001b[0margs\u001b[0m\u001b[0;34m,\u001b[0m \u001b[0mkwargs\u001b[0m\u001b[0;34m)\u001b[0m  \u001b[0;31m# pylint: disable=protected-access\u001b[0m\u001b[0;34m\u001b[0m\u001b[0;34m\u001b[0m\u001b[0m\n\u001b[1;32m   2830\u001b[0m \u001b[0;34m\u001b[0m\u001b[0m\n",
            "\u001b[0;32m/usr/local/lib/python3.6/dist-packages/tensorflow/python/eager/function.py\u001b[0m in \u001b[0;36m_maybe_define_function\u001b[0;34m(self, args, kwargs)\u001b[0m\n\u001b[1;32m   3208\u001b[0m           \u001b[0;32mand\u001b[0m \u001b[0mself\u001b[0m\u001b[0;34m.\u001b[0m\u001b[0minput_signature\u001b[0m \u001b[0;32mis\u001b[0m \u001b[0;32mNone\u001b[0m\u001b[0;34m\u001b[0m\u001b[0;34m\u001b[0m\u001b[0m\n\u001b[1;32m   3209\u001b[0m           and call_context_key in self._function_cache.missed):\n\u001b[0;32m-> 3210\u001b[0;31m         \u001b[0;32mreturn\u001b[0m \u001b[0mself\u001b[0m\u001b[0;34m.\u001b[0m\u001b[0m_define_function_with_shape_relaxation\u001b[0m\u001b[0;34m(\u001b[0m\u001b[0margs\u001b[0m\u001b[0;34m,\u001b[0m \u001b[0mkwargs\u001b[0m\u001b[0;34m)\u001b[0m\u001b[0;34m\u001b[0m\u001b[0;34m\u001b[0m\u001b[0m\n\u001b[0m\u001b[1;32m   3211\u001b[0m \u001b[0;34m\u001b[0m\u001b[0m\n\u001b[1;32m   3212\u001b[0m       \u001b[0mself\u001b[0m\u001b[0;34m.\u001b[0m\u001b[0m_function_cache\u001b[0m\u001b[0;34m.\u001b[0m\u001b[0mmissed\u001b[0m\u001b[0;34m.\u001b[0m\u001b[0madd\u001b[0m\u001b[0;34m(\u001b[0m\u001b[0mcall_context_key\u001b[0m\u001b[0;34m)\u001b[0m\u001b[0;34m\u001b[0m\u001b[0;34m\u001b[0m\u001b[0m\n",
            "\u001b[0;32m/usr/local/lib/python3.6/dist-packages/tensorflow/python/eager/function.py\u001b[0m in \u001b[0;36m_define_function_with_shape_relaxation\u001b[0;34m(self, args, kwargs)\u001b[0m\n\u001b[1;32m   3140\u001b[0m \u001b[0;34m\u001b[0m\u001b[0m\n\u001b[1;32m   3141\u001b[0m     graph_function = self._create_graph_function(\n\u001b[0;32m-> 3142\u001b[0;31m         args, kwargs, override_flat_arg_shapes=relaxed_arg_shapes)\n\u001b[0m\u001b[1;32m   3143\u001b[0m     \u001b[0mself\u001b[0m\u001b[0;34m.\u001b[0m\u001b[0m_function_cache\u001b[0m\u001b[0;34m.\u001b[0m\u001b[0marg_relaxed\u001b[0m\u001b[0;34m[\u001b[0m\u001b[0mrank_only_cache_key\u001b[0m\u001b[0;34m]\u001b[0m \u001b[0;34m=\u001b[0m \u001b[0mgraph_function\u001b[0m\u001b[0;34m\u001b[0m\u001b[0;34m\u001b[0m\u001b[0m\n\u001b[1;32m   3144\u001b[0m \u001b[0;34m\u001b[0m\u001b[0m\n",
            "\u001b[0;32m/usr/local/lib/python3.6/dist-packages/tensorflow/python/eager/function.py\u001b[0m in \u001b[0;36m_create_graph_function\u001b[0;34m(self, args, kwargs, override_flat_arg_shapes)\u001b[0m\n\u001b[1;32m   3073\u001b[0m             \u001b[0marg_names\u001b[0m\u001b[0;34m=\u001b[0m\u001b[0marg_names\u001b[0m\u001b[0;34m,\u001b[0m\u001b[0;34m\u001b[0m\u001b[0;34m\u001b[0m\u001b[0m\n\u001b[1;32m   3074\u001b[0m             \u001b[0moverride_flat_arg_shapes\u001b[0m\u001b[0;34m=\u001b[0m\u001b[0moverride_flat_arg_shapes\u001b[0m\u001b[0;34m,\u001b[0m\u001b[0;34m\u001b[0m\u001b[0;34m\u001b[0m\u001b[0m\n\u001b[0;32m-> 3075\u001b[0;31m             capture_by_value=self._capture_by_value),\n\u001b[0m\u001b[1;32m   3076\u001b[0m         \u001b[0mself\u001b[0m\u001b[0;34m.\u001b[0m\u001b[0m_function_attributes\u001b[0m\u001b[0;34m,\u001b[0m\u001b[0;34m\u001b[0m\u001b[0;34m\u001b[0m\u001b[0m\n\u001b[1;32m   3077\u001b[0m         \u001b[0mfunction_spec\u001b[0m\u001b[0;34m=\u001b[0m\u001b[0mself\u001b[0m\u001b[0;34m.\u001b[0m\u001b[0mfunction_spec\u001b[0m\u001b[0;34m,\u001b[0m\u001b[0;34m\u001b[0m\u001b[0;34m\u001b[0m\u001b[0m\n",
            "\u001b[0;32m/usr/local/lib/python3.6/dist-packages/tensorflow/python/framework/func_graph.py\u001b[0m in \u001b[0;36mfunc_graph_from_py_func\u001b[0;34m(name, python_func, args, kwargs, signature, func_graph, autograph, autograph_options, add_control_dependencies, arg_names, op_return_value, collections, capture_by_value, override_flat_arg_shapes)\u001b[0m\n\u001b[1;32m    984\u001b[0m         \u001b[0m_\u001b[0m\u001b[0;34m,\u001b[0m \u001b[0moriginal_func\u001b[0m \u001b[0;34m=\u001b[0m \u001b[0mtf_decorator\u001b[0m\u001b[0;34m.\u001b[0m\u001b[0munwrap\u001b[0m\u001b[0;34m(\u001b[0m\u001b[0mpython_func\u001b[0m\u001b[0;34m)\u001b[0m\u001b[0;34m\u001b[0m\u001b[0;34m\u001b[0m\u001b[0m\n\u001b[1;32m    985\u001b[0m \u001b[0;34m\u001b[0m\u001b[0m\n\u001b[0;32m--> 986\u001b[0;31m       \u001b[0mfunc_outputs\u001b[0m \u001b[0;34m=\u001b[0m \u001b[0mpython_func\u001b[0m\u001b[0;34m(\u001b[0m\u001b[0;34m*\u001b[0m\u001b[0mfunc_args\u001b[0m\u001b[0;34m,\u001b[0m \u001b[0;34m**\u001b[0m\u001b[0mfunc_kwargs\u001b[0m\u001b[0;34m)\u001b[0m\u001b[0;34m\u001b[0m\u001b[0;34m\u001b[0m\u001b[0m\n\u001b[0m\u001b[1;32m    987\u001b[0m \u001b[0;34m\u001b[0m\u001b[0m\n\u001b[1;32m    988\u001b[0m       \u001b[0;31m# invariant: `func_outputs` contains only Tensors, CompositeTensors,\u001b[0m\u001b[0;34m\u001b[0m\u001b[0;34m\u001b[0m\u001b[0;34m\u001b[0m\u001b[0m\n",
            "\u001b[0;32m/usr/local/lib/python3.6/dist-packages/tensorflow/python/eager/def_function.py\u001b[0m in \u001b[0;36mwrapped_fn\u001b[0;34m(*args, **kwds)\u001b[0m\n\u001b[1;32m    598\u001b[0m         \u001b[0;31m# __wrapped__ allows AutoGraph to swap in a converted function. We give\u001b[0m\u001b[0;34m\u001b[0m\u001b[0;34m\u001b[0m\u001b[0;34m\u001b[0m\u001b[0m\n\u001b[1;32m    599\u001b[0m         \u001b[0;31m# the function a weak reference to itself to avoid a reference cycle.\u001b[0m\u001b[0;34m\u001b[0m\u001b[0;34m\u001b[0m\u001b[0;34m\u001b[0m\u001b[0m\n\u001b[0;32m--> 600\u001b[0;31m         \u001b[0;32mreturn\u001b[0m \u001b[0mweak_wrapped_fn\u001b[0m\u001b[0;34m(\u001b[0m\u001b[0;34m)\u001b[0m\u001b[0;34m.\u001b[0m\u001b[0m__wrapped__\u001b[0m\u001b[0;34m(\u001b[0m\u001b[0;34m*\u001b[0m\u001b[0margs\u001b[0m\u001b[0;34m,\u001b[0m \u001b[0;34m**\u001b[0m\u001b[0mkwds\u001b[0m\u001b[0;34m)\u001b[0m\u001b[0;34m\u001b[0m\u001b[0;34m\u001b[0m\u001b[0m\n\u001b[0m\u001b[1;32m    601\u001b[0m     \u001b[0mweak_wrapped_fn\u001b[0m \u001b[0;34m=\u001b[0m \u001b[0mweakref\u001b[0m\u001b[0;34m.\u001b[0m\u001b[0mref\u001b[0m\u001b[0;34m(\u001b[0m\u001b[0mwrapped_fn\u001b[0m\u001b[0;34m)\u001b[0m\u001b[0;34m\u001b[0m\u001b[0;34m\u001b[0m\u001b[0m\n\u001b[1;32m    602\u001b[0m \u001b[0;34m\u001b[0m\u001b[0m\n",
            "\u001b[0;32m/usr/local/lib/python3.6/dist-packages/tensorflow/python/framework/func_graph.py\u001b[0m in \u001b[0;36mwrapper\u001b[0;34m(*args, **kwargs)\u001b[0m\n\u001b[1;32m    971\u001b[0m           \u001b[0;32mexcept\u001b[0m \u001b[0mException\u001b[0m \u001b[0;32mas\u001b[0m \u001b[0me\u001b[0m\u001b[0;34m:\u001b[0m  \u001b[0;31m# pylint:disable=broad-except\u001b[0m\u001b[0;34m\u001b[0m\u001b[0;34m\u001b[0m\u001b[0m\n\u001b[1;32m    972\u001b[0m             \u001b[0;32mif\u001b[0m \u001b[0mhasattr\u001b[0m\u001b[0;34m(\u001b[0m\u001b[0me\u001b[0m\u001b[0;34m,\u001b[0m \u001b[0;34m\"ag_error_metadata\"\u001b[0m\u001b[0;34m)\u001b[0m\u001b[0;34m:\u001b[0m\u001b[0;34m\u001b[0m\u001b[0;34m\u001b[0m\u001b[0m\n\u001b[0;32m--> 973\u001b[0;31m               \u001b[0;32mraise\u001b[0m \u001b[0me\u001b[0m\u001b[0;34m.\u001b[0m\u001b[0mag_error_metadata\u001b[0m\u001b[0;34m.\u001b[0m\u001b[0mto_exception\u001b[0m\u001b[0;34m(\u001b[0m\u001b[0me\u001b[0m\u001b[0;34m)\u001b[0m\u001b[0;34m\u001b[0m\u001b[0;34m\u001b[0m\u001b[0m\n\u001b[0m\u001b[1;32m    974\u001b[0m             \u001b[0;32melse\u001b[0m\u001b[0;34m:\u001b[0m\u001b[0;34m\u001b[0m\u001b[0;34m\u001b[0m\u001b[0m\n\u001b[1;32m    975\u001b[0m               \u001b[0;32mraise\u001b[0m\u001b[0;34m\u001b[0m\u001b[0;34m\u001b[0m\u001b[0m\n",
            "\u001b[0;31mTypeError\u001b[0m: in user code:\n\n    /usr/local/lib/python3.6/dist-packages/tensorflow/python/keras/engine/training.py:1462 predict_function  *\n        return step_function(self, iterator)\n    /usr/local/lib/python3.6/dist-packages/tensorflow/python/keras/engine/training.py:1452 step_function  **\n        outputs = model.distribute_strategy.run(run_step, args=(data,))\n    /usr/local/lib/python3.6/dist-packages/tensorflow/python/distribute/distribute_lib.py:1211 run\n        return self._extended.call_for_each_replica(fn, args=args, kwargs=kwargs)\n    /usr/local/lib/python3.6/dist-packages/tensorflow/python/distribute/distribute_lib.py:2585 call_for_each_replica\n        return self._call_for_each_replica(fn, args, kwargs)\n    /usr/local/lib/python3.6/dist-packages/tensorflow/python/distribute/distribute_lib.py:2945 _call_for_each_replica\n        return fn(*args, **kwargs)\n    /usr/local/lib/python3.6/dist-packages/tensorflow/python/keras/engine/training.py:1445 run_step  **\n        outputs = model.predict_step(data)\n    /usr/local/lib/python3.6/dist-packages/tensorflow/python/keras/engine/training.py:1418 predict_step\n        return self(x, training=False)\n    /usr/local/lib/python3.6/dist-packages/tensorflow/python/keras/engine/base_layer.py:985 __call__\n        outputs = call_fn(inputs, *args, **kwargs)\n    /usr/local/lib/python3.6/dist-packages/tensorflow/python/keras/engine/functional.py:386 call\n        inputs, training=training, mask=mask)\n    /usr/local/lib/python3.6/dist-packages/tensorflow/python/keras/engine/functional.py:508 _run_internal_graph\n        outputs = node.layer(*args, **kwargs)\n    /usr/local/lib/python3.6/dist-packages/tensorflow/python/keras/engine/base_layer.py:985 __call__\n        outputs = call_fn(inputs, *args, **kwargs)\n    /usr/local/lib/python3.6/dist-packages/tensorflow/python/keras/layers/embeddings.py:189 call\n        out = embedding_ops.embedding_lookup_v2(self.embeddings, inputs)\n    /usr/local/lib/python3.6/dist-packages/tensorflow/python/util/dispatch.py:201 wrapper\n        return target(*args, **kwargs)\n    /usr/local/lib/python3.6/dist-packages/tensorflow/python/ops/embedding_ops.py:394 embedding_lookup_v2\n        return embedding_lookup(params, ids, \"div\", name, max_norm=max_norm)\n    /usr/local/lib/python3.6/dist-packages/tensorflow/python/util/dispatch.py:201 wrapper\n        return target(*args, **kwargs)\n    /usr/local/lib/python3.6/dist-packages/tensorflow/python/ops/embedding_ops.py:328 embedding_lookup\n        transform_fn=None)\n    /usr/local/lib/python3.6/dist-packages/tensorflow/python/ops/embedding_ops.py:134 _embedding_lookup_and_transform\n        ids = ops.convert_to_tensor(ids, name=\"ids\")\n    /usr/local/lib/python3.6/dist-packages/tensorflow/python/framework/ops.py:1499 convert_to_tensor\n        ret = conversion_func(value, dtype=dtype, name=name, as_ref=as_ref)\n    /usr/local/lib/python3.6/dist-packages/tensorflow/python/framework/constant_op.py:338 _constant_tensor_conversion_function\n        return constant(v, dtype=dtype, name=name)\n    /usr/local/lib/python3.6/dist-packages/tensorflow/python/framework/constant_op.py:264 constant\n        allow_broadcast=True)\n    /usr/local/lib/python3.6/dist-packages/tensorflow/python/framework/constant_op.py:282 _constant_impl\n        allow_broadcast=allow_broadcast))\n    /usr/local/lib/python3.6/dist-packages/tensorflow/python/framework/tensor_util.py:552 make_tensor_proto\n        \"supported type.\" % (type(values), values))\n\n    TypeError: Failed to convert object of type <class 'tensorflow.python.framework.sparse_tensor.SparseTensor'> to Tensor. Contents: SparseTensor(indices=Tensor(\"DeserializeSparse:0\", shape=(None, 2), dtype=int64), values=Tensor(\"functional_1/embedding/Cast:0\", shape=(None,), dtype=int32), dense_shape=Tensor(\"stack:0\", shape=(2,), dtype=int64)). Consider casting elements to a supported type.\n"
          ]
        }
      ]
    }
  ]
}